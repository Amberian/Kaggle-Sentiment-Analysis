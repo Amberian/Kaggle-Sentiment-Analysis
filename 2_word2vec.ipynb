{
 "cells": [
  {
   "cell_type": "code",
   "execution_count": 2,
   "metadata": {},
   "outputs": [],
   "source": [
    "import pandas as pd"
   ]
  },
  {
   "cell_type": "code",
   "execution_count": 3,
   "metadata": {},
   "outputs": [],
   "source": [
    "train_data=pd.read_csv('data/labeledTrainData.tsv',header=0, delimiter='\\t', quoting=3)\n",
    "test_data=pd.read_csv('data/testData.tsv',header=0, delimiter='\\t', quoting=3)\n",
    "unlabeled_data=pd.read_csv('data/unlabeledTrainData.tsv',header=0, delimiter='\\t', quoting=3)"
   ]
  },
  {
   "cell_type": "code",
   "execution_count": 4,
   "metadata": {},
   "outputs": [
    {
     "name": "stdout",
     "output_type": "stream",
     "text": [
      "train: (25000, 3)            id  sentiment                                             review\n",
      "0    \"5814_8\"          1  \"With all this stuff going down at the moment ...\n",
      "1    \"2381_9\"          1  \"\\\"The Classic War of the Worlds\\\" by Timothy ...\n",
      "2    \"7759_3\"          0  \"The film starts with a manager (Nicholas Bell...\n",
      "3    \"3630_4\"          0  \"It must be assumed that those who praised thi...\n",
      "4    \"9495_8\"          1  \"Superbly trashy and wondrously unpretentious ...\n",
      "5    \"8196_8\"          1  \"I dont know why people think this is such a b...\n",
      "6    \"7166_2\"          0  \"This movie could have been very good, but com...\n",
      "7   \"10633_1\"          0  \"I watched this video at a friend's house. I'm...\n",
      "8     \"319_1\"          0  \"A friend of mine bought this film for £1, and...\n",
      "9   \"8713_10\"          1  \"<br /><br />This movie is full of references....\n",
      "10   \"2486_3\"          0  \"What happens when an army of wetbacks, towelh...\n",
      "11  \"6811_10\"          1  \"Although I generally do not like remakes beli...\n",
      "12  \"11744_9\"          1  \"\\\"Mr. Harvey Lights a Candle\\\" is anchored by...\n",
      "13   \"7369_1\"          0  \"I had a feeling that after \\\"Submerged\\\", thi...\n",
      "14  \"12081_1\"          0  \"note to George Litman, and others: the Myster...\n",
      "15   \"3561_4\"          0  \"Stephen King adaptation (scripted by King him...\n",
      "16   \"4489_1\"          0  \"`The Matrix' was an exciting summer blockbust...\n",
      "17   \"3951_2\"          0  \"Ulli Lommel's 1980 film 'The Boogey Man' is n...\n",
      "18  \"3304_10\"          1  \"This movie is one among the very few Indian m...\n",
      "19  \"9352_10\"          1  \"Most people, especially young people, may not...\n",
      "test: (25000, 2)             id                                             review\n",
      "0   \"12311_10\"  \"Naturally in a film who's main themes are of ...\n",
      "1     \"8348_2\"  \"This movie is a disaster within a disaster fi...\n",
      "2     \"5828_4\"  \"All in all, this is a movie for kids. We saw ...\n",
      "3     \"7186_2\"  \"Afraid of the Dark left me with the impressio...\n",
      "4    \"12128_7\"  \"A very accurate depiction of small time mob l...\n",
      "5     \"2913_8\"  \"...as valuable as King Tut's tomb! (OK, maybe...\n",
      "6     \"4396_1\"  \"This has to be one of the biggest misfires ev...\n",
      "7      \"395_2\"  \"This is one of those movies I watched, and wo...\n",
      "8    \"10616_1\"  \"The worst movie i've seen in years (and i've ...\n",
      "9     \"9074_9\"  \"Five medical students (Kevin Bacon, David Lab...\n",
      "10    \"9252_3\"  \"'The Mill on the Floss' was one of the lesser...\n",
      "11    \"9896_9\"  \"I just saw this film at the phoenix film fest...\n",
      "12     \"574_4\"  \"\\\"The Love Letter\\\" is one of those movies th...\n",
      "13   \"11182_8\"  \"Another fantastic offering from the Monkey Is...\n",
      "14   \"11656_4\"  \"This was included on the disk \\\"Shorts: Volum...\n",
      "15    \"2322_4\"  \"I'm not really much of an Abbott & Costello f...\n",
      "16    \"8703_1\"  \"This movie was dreadful. Biblically very inac...\n",
      "17    \"7483_1\"  \"I don't think I've ever gave something a 1/10...\n",
      "18   \"6007_10\"  \"Excellent story-telling and cinematography. P...\n",
      "19   \"12424_4\"  \"I completely forgot that I'd seen this within...\n",
      "unlabeled train: (50000, 2)            id                                             review\n",
      "0    \"9999_0\"  \"Watching Time Chasers, it obvious that it was...\n",
      "1   \"45057_0\"  \"I saw this film about 20 years ago and rememb...\n",
      "2   \"15561_0\"  \"Minor Spoilers<br /><br />In New York, Joan B...\n",
      "3    \"7161_0\"  \"I went to see this film with a great deal of ...\n",
      "4   \"43971_0\"  \"Yes, I agree with everyone on this site this ...\n",
      "5   \"36495_0\"  \"Jennifer Ehle was sparkling in \\\"Pride and Pr...\n",
      "6   \"49472_0\"  \"Amy Poehler is a terrific comedian on Saturda...\n",
      "7   \"36693_0\"  \"A plane carrying employees of a large biotech...\n",
      "8     \"316_0\"  \"A well made, gritty science fiction movie, it...\n",
      "9   \"32454_0\"  \"Incredibly dumb and utterly predictable story...\n",
      "10  \"37128_0\"  \"After reading the comments for this movie, I ...\n",
      "11  \"19439_0\"  \"It's hard to describe Elfen Lied to someone w...\n",
      "12  \"10760_0\"  \"Of all the bile-inducing vomitoriums to squee...\n",
      "13  \"15073_0\"  \"This is quite an underrated Hitchcock movie. ...\n",
      "14  \"33119_0\"  \"Being a huge Gary Oldman fan, I had high hope...\n",
      "15  \"38735_0\"  \"For the most part the acting was poorly done ...\n",
      "16  \"12041_0\"  \"Ram Gopal Varma does it again yet another mov...\n",
      "17  \"41565_0\"  \"I gave it 2 for some attempt at historical de...\n",
      "18  \"48612_0\"  \"I wanted to watch this one sense I am a fan o...\n",
      "19  \"17525_0\"  \"Che is a good film for chronicling the events...\n"
     ]
    }
   ],
   "source": [
    "print(\"train:\",train_data.shape, train_data[:20])\n",
    "print(\"test:\", test_data.shape, test_data[:20])\n",
    "print(\"unlabeled train:\",unlabeled_data.shape, unlabeled_data[:20])"
   ]
  },
  {
   "cell_type": "markdown",
   "metadata": {},
   "source": [
    "### 文本预处理\n",
    "1. 去除HTML标签：BeautifulSoup\n",
    "2. 将所有词转为小写\n",
    "2. 去除数字和标点，用空格置换，（后续可以保留类似于\"!!!\" or \":-(\" 这样的带有情感的符号）\n",
    "3. 去除停用词(可选，因为在word2vec中更多的词可以产生更高质量的词向量）：nltk.stopwords\n",
    "4. 词干提取和词性还原：https://www.cnblogs.com/cwp-bg/p/9510513.html"
   ]
  },
  {
   "cell_type": "code",
   "execution_count": 5,
   "metadata": {},
   "outputs": [],
   "source": [
    "from bs4 import BeautifulSoup\n",
    "import re\n",
    "from nltk.tokenize import word_tokenize\n",
    "from nltk.corpus import stopwords\n",
    "from nltk.stem.lancaster import LancasterStemmer#词干提取\n",
    "from nltk.stem import WordNetLemmatizer#词形还原"
   ]
  },
  {
   "cell_type": "code",
   "execution_count": 6,
   "metadata": {},
   "outputs": [],
   "source": [
    "def txt2wordlist(raw_txt, remove_stop):\n",
    "    l_stem=LancasterStemmer()#不能用PorterStemmer，对于一些未登录词会报错，比如OED\n",
    "    w_lem=WordNetLemmatizer()\n",
    "    txt=BeautifulSoup(raw_txt,'lxml')\n",
    "    txt=txt.get_text().lower()\n",
    "    txt=re.sub('[^a-zA-Z]',' ',txt)\n",
    "    word=word_tokenize(txt)\n",
    "    if remove_stop:\n",
    "        stops=set(stopwords.words('english'))\n",
    "        word=[w for w in word if w not in stops]\n",
    "    word=[l_stem.stem(w) for w in word]\n",
    "    word=[w_lem.lemmatize(w) for w in word]\n",
    "    return word"
   ]
  },
  {
   "cell_type": "markdown",
   "metadata": {},
   "source": [
    "输入Word2vec的是单个句子，一个句子是一个list，由词组成。\n",
    "所以需要将文本先分割成句子。\n",
    "使用NLTK中的**punkt**标记生成器来进行句子分割"
   ]
  },
  {
   "cell_type": "code",
   "execution_count": 7,
   "metadata": {},
   "outputs": [],
   "source": [
    "from nltk import sent_tokenize"
   ]
  },
  {
   "cell_type": "code",
   "execution_count": 8,
   "metadata": {},
   "outputs": [
    {
     "data": {
      "text/plain": [
       "'\"With all this stuff going down at the moment with MJ i\\'ve started listening to his music, watching the odd documentary here and there, watched The Wiz and watched Moonwalker again. Maybe i just want to get a certain insight into this guy who i thought was really cool in the eighties just to maybe make up my mind whether he is guilty or innocent. Moonwalker is part biography, part feature film which i remember going to see at the cinema when it was originally released. Some of it has subtle messages about MJ\\'s feeling towards the press and also the obvious message of drugs are bad m\\'kay.<br /><br />Visually impressive but of course this is all about Michael Jackson so unless you remotely like MJ in anyway then you are going to hate this and find it boring. Some may call MJ an egotist for consenting to the making of this movie BUT MJ and most of his fans would say that he made it for the fans which if true is really nice of him.<br /><br />The actual feature film bit when it finally starts is only on for 20 minutes or so excluding the Smooth Criminal sequence and Joe Pesci is convincing as a psychopathic all powerful drug lord. Why he wants MJ dead so bad is beyond me. Because MJ overheard his plans? Nah, Joe Pesci\\'s character ranted that he wanted people to know it is he who is supplying drugs etc so i dunno, maybe he just hates MJ\\'s music.<br /><br />Lots of cool things in this like MJ turning into a car and a robot and the whole Speed Demon sequence. Also, the director must have had the patience of a saint when it came to filming the kiddy Bad sequence as usually directors hate working with one kid let alone a whole bunch of them performing a complex dance scene.<br /><br />Bottom line, this movie is for people who like MJ on one level or another (which i think is most people). If not, then stay away. It does try and give off a wholesome message and ironically MJ\\'s bestest buddy in this movie is a girl! Michael Jackson is truly one of the most talented people ever to grace this planet but is he guilty? Well, with all the attention i\\'ve gave this subject....hmmm well i don\\'t know because people can be different behind closed doors, i know this for a fact. He is either an extremely nice but stupid guy or one of the most sickest liars. I hope he is not the latter.\"'"
      ]
     },
     "execution_count": 8,
     "metadata": {},
     "output_type": "execute_result"
    }
   ],
   "source": [
    "train_data['review'][0]"
   ]
  },
  {
   "cell_type": "code",
   "execution_count": 9,
   "metadata": {},
   "outputs": [
    {
     "name": "stderr",
     "output_type": "stream",
     "text": [
      "C:\\Users\\ddp\\Anaconda3\\lib\\site-packages\\bs4\\__init__.py:219: UserWarning: \"b'.'\" looks like a filename, not markup. You should probably open this file and pass the filehandle into Beautiful Soup.\n",
      "  ' Beautiful Soup.' % markup)\n",
      "C:\\Users\\ddp\\Anaconda3\\lib\\site-packages\\bs4\\__init__.py:219: UserWarning: \"b'...'\" looks like a filename, not markup. You should probably open this file and pass the filehandle into Beautiful Soup.\n",
      "  ' Beautiful Soup.' % markup)\n",
      "C:\\Users\\ddp\\Anaconda3\\lib\\site-packages\\bs4\\__init__.py:282: UserWarning: \"http://www.happierabroad.com\"\" looks like a URL. Beautiful Soup is not an HTTP client. You should probably use an HTTP client like requests to get the document behind the URL, and feed that document to Beautiful Soup.\n",
      "  ' that document to Beautiful Soup.' % decoded_markup\n",
      "C:\\Users\\ddp\\Anaconda3\\lib\\site-packages\\bs4\\__init__.py:282: UserWarning: \"http://www.archive.org/details/LovefromaStranger\"\" looks like a URL. Beautiful Soup is not an HTTP client. You should probably use an HTTP client like requests to get the document behind the URL, and feed that document to Beautiful Soup.\n",
      "  ' that document to Beautiful Soup.' % decoded_markup\n",
      "C:\\Users\\ddp\\Anaconda3\\lib\\site-packages\\bs4\\__init__.py:282: UserWarning: \"http://www.loosechangeguide.com/LooseChangeGuide.html\"\" looks like a URL. Beautiful Soup is not an HTTP client. You should probably use an HTTP client like requests to get the document behind the URL, and feed that document to Beautiful Soup.\n",
      "  ' that document to Beautiful Soup.' % decoded_markup\n",
      "C:\\Users\\ddp\\Anaconda3\\lib\\site-packages\\bs4\\__init__.py:219: UserWarning: \"b'... ...'\" looks like a filename, not markup. You should probably open this file and pass the filehandle into Beautiful Soup.\n",
      "  ' Beautiful Soup.' % markup)\n",
      "C:\\Users\\ddp\\Anaconda3\\lib\\site-packages\\bs4\\__init__.py:219: UserWarning: \"b'....'\" looks like a filename, not markup. You should probably open this file and pass the filehandle into Beautiful Soup.\n",
      "  ' Beautiful Soup.' % markup)\n",
      "C:\\Users\\ddp\\Anaconda3\\lib\\site-packages\\bs4\\__init__.py:282: UserWarning: \"http://www.msnbc.msn.com/id/4972055/site/newsweek/\"\" looks like a URL. Beautiful Soup is not an HTTP client. You should probably use an HTTP client like requests to get the document behind the URL, and feed that document to Beautiful Soup.\n",
      "  ' that document to Beautiful Soup.' % decoded_markup\n",
      "C:\\Users\\ddp\\Anaconda3\\lib\\site-packages\\bs4\\__init__.py:219: UserWarning: \"b'..'\" looks like a filename, not markup. You should probably open this file and pass the filehandle into Beautiful Soup.\n",
      "  ' Beautiful Soup.' % markup)\n",
      "C:\\Users\\ddp\\Anaconda3\\lib\\site-packages\\bs4\\__init__.py:282: UserWarning: \"http://www.youtube.com/watch?v=a0KSqelmgN8\"\" looks like a URL. Beautiful Soup is not an HTTP client. You should probably use an HTTP client like requests to get the document behind the URL, and feed that document to Beautiful Soup.\n",
      "  ' that document to Beautiful Soup.' % decoded_markup\n",
      "C:\\Users\\ddp\\Anaconda3\\lib\\site-packages\\bs4\\__init__.py:219: UserWarning: \"b'.. .'\" looks like a filename, not markup. You should probably open this file and pass the filehandle into Beautiful Soup.\n",
      "  ' Beautiful Soup.' % markup)\n",
      "C:\\Users\\ddp\\Anaconda3\\lib\\site-packages\\bs4\\__init__.py:282: UserWarning: \"http://jake-weird.blogspot.com/2007/08/beneath.html\"\" looks like a URL. Beautiful Soup is not an HTTP client. You should probably use an HTTP client like requests to get the document behind the URL, and feed that document to Beautiful Soup.\n",
      "  ' that document to Beautiful Soup.' % decoded_markup\n"
     ]
    },
    {
     "data": {
      "text/plain": [
       "795538"
      ]
     },
     "execution_count": 9,
     "metadata": {},
     "output_type": "execute_result"
    }
   ],
   "source": [
    "sent_list=[]\n",
    "for review in train_data['review']:\n",
    "    sent_list+=[txt2wordlist(sent,False) for sent in sent_tokenize(review)]\n",
    "for review in unlabeled_data['review']:\n",
    "    sent_list+=[txt2wordlist(sent,False) for sent in sent_tokenize(review)]\n",
    "len(sent_list)"
   ]
  },
  {
   "cell_type": "code",
   "execution_count": 10,
   "metadata": {},
   "outputs": [
    {
     "name": "stderr",
     "output_type": "stream",
     "text": [
      "C:\\Users\\ddp\\Anaconda3\\lib\\site-packages\\gensim\\utils.py:1212: UserWarning: detected Windows; aliasing chunkize to chunkize_serial\n",
      "  warnings.warn(\"detected Windows; aliasing chunkize to chunkize_serial\")\n"
     ]
    }
   ],
   "source": [
    "#import logging\n",
    "#logging.basicConfig(format='%(asctime)s : %(levelname)s : %(message)s', level=logging.INFO)#打印日志的时间、级别名称、信息\n",
    "from gensim.models import word2vec\n",
    "num_worker=4#并行的线程数\n",
    "num_feature=300#词向量的维度\n",
    "num_min_count=40#最小词频，小于这个词频的就不纳入分析\n",
    "num_window=10#上下文窗口大小\n",
    "num_downsample=1e-3#高频词汇的随机降采样的配置阈值，默认为1e-3，范围是(0,1e-5)\n",
    "model=word2vec.Word2Vec(sent_list, workers=num_worker, size=num_feature, min_count=num_min_count, window=num_window, sample=num_downsample)"
   ]
  },
  {
   "cell_type": "code",
   "execution_count": 11,
   "metadata": {},
   "outputs": [],
   "source": [
    "#model.init_sims(replace=True)#确定模型训练好之后，固定化模型，然后保存\n",
    "model_name = \"model/300features_40minwords_10context\"\n",
    "model.save(model_name)"
   ]
  },
  {
   "cell_type": "markdown",
   "metadata": {},
   "source": [
    "[《How to Generate a Good Word Embedding?》导读](http://licstar.net/archives/620) 给出了一个word2vec模型训练套路：\n",
    "\n",
    "首先根据具体任务，选一个领域相似的语料，在这个条件下，语料越大越好。然后下载一个 word2vec 的新版（14年9月更新），语料小（小于一亿词，约 500MB 的文本文件）的时候用 Skip-gram 模型，语料大的时候用 CBOW 模型。最后记得设置迭代次数为三五十次，维度至少选 50，就可以了。"
   ]
  },
  {
   "cell_type": "markdown",
   "metadata": {},
   "source": [
    "### 探索模型结果"
   ]
  },
  {
   "cell_type": "code",
   "execution_count": 17,
   "metadata": {},
   "outputs": [
    {
     "name": "stderr",
     "output_type": "stream",
     "text": [
      "C:\\Users\\ddp\\Anaconda3\\lib\\site-packages\\gensim\\matutils.py:737: FutureWarning: Conversion of the second argument of issubdtype from `int` to `np.signedinteger` is deprecated. In future, it will be treated as `np.int32 == np.dtype(int).type`.\n",
      "  if np.issubdtype(vec.dtype, np.int):\n"
     ]
    },
    {
     "data": {
      "text/plain": [
       "'child'"
      ]
     },
     "execution_count": 17,
     "metadata": {},
     "output_type": "execute_result"
    }
   ],
   "source": [
    "model.wv.doesnt_match(\"man woman child kitchen\".split())#推断在一个集合里，哪一个单词与其他单词最不相似"
   ]
  },
  {
   "cell_type": "code",
   "execution_count": 18,
   "metadata": {},
   "outputs": [
    {
     "name": "stderr",
     "output_type": "stream",
     "text": [
      "C:\\Users\\ddp\\Anaconda3\\lib\\site-packages\\gensim\\matutils.py:737: FutureWarning: Conversion of the second argument of issubdtype from `int` to `np.signedinteger` is deprecated. In future, it will be treated as `np.int32 == np.dtype(int).type`.\n",
      "  if np.issubdtype(vec.dtype, np.int):\n"
     ]
    },
    {
     "data": {
      "text/plain": [
       "'berlin'"
      ]
     },
     "execution_count": 18,
     "metadata": {},
     "output_type": "execute_result"
    }
   ],
   "source": [
    "model.wv.doesnt_match('france england germany berlin'.split())"
   ]
  },
  {
   "cell_type": "code",
   "execution_count": 19,
   "metadata": {},
   "outputs": [
    {
     "name": "stderr",
     "output_type": "stream",
     "text": [
      "C:\\Users\\ddp\\Anaconda3\\lib\\site-packages\\gensim\\matutils.py:737: FutureWarning: Conversion of the second argument of issubdtype from `int` to `np.signedinteger` is deprecated. In future, it will be treated as `np.int32 == np.dtype(int).type`.\n",
      "  if np.issubdtype(vec.dtype, np.int):\n"
     ]
    },
    {
     "data": {
      "text/plain": [
       "'berlin'"
      ]
     },
     "execution_count": 19,
     "metadata": {},
     "output_type": "execute_result"
    }
   ],
   "source": [
    "model.wv.doesnt_match('paris berlin london austria'.split())"
   ]
  },
  {
   "cell_type": "code",
   "execution_count": 20,
   "metadata": {},
   "outputs": [
    {
     "name": "stderr",
     "output_type": "stream",
     "text": [
      "C:\\Users\\ddp\\Anaconda3\\lib\\site-packages\\gensim\\matutils.py:737: FutureWarning: Conversion of the second argument of issubdtype from `int` to `np.signedinteger` is deprecated. In future, it will be treated as `np.int32 == np.dtype(int).type`.\n",
      "  if np.issubdtype(vec.dtype, np.int):\n"
     ]
    },
    {
     "data": {
      "text/plain": [
       "[('millionair', 0.4716331362724304),\n",
       " ('wom', 0.4708542227745056),\n",
       " ('businessm', 0.442435622215271),\n",
       " ('widow', 0.4354481101036072),\n",
       " ('men', 0.43412673473358154),\n",
       " ('lady', 0.43173521757125854),\n",
       " ('chap', 0.41588473320007324),\n",
       " ('lawy', 0.4075814485549927),\n",
       " ('doct', 0.4056174159049988),\n",
       " ('convict', 0.40403640270233154)]"
      ]
     },
     "execution_count": 20,
     "metadata": {},
     "output_type": "execute_result"
    }
   ],
   "source": [
    "model.wv.most_similar('man')"
   ]
  },
  {
   "cell_type": "code",
   "execution_count": 16,
   "metadata": {},
   "outputs": [
    {
     "name": "stderr",
     "output_type": "stream",
     "text": [
      "C:\\Users\\ddp\\Anaconda3\\lib\\site-packages\\gensim\\matutils.py:737: FutureWarning: Conversion of the second argument of issubdtype from `int` to `np.signedinteger` is deprecated. In future, it will be treated as `np.int32 == np.dtype(int).type`.\n",
      "  if np.issubdtype(vec.dtype, np.int):\n"
     ]
    },
    {
     "data": {
      "text/plain": [
       "[('princess', 0.6119894981384277),\n",
       " ('countess', 0.5805540680885315),\n",
       " ('victor', 0.5745164155960083),\n",
       " ('mistress', 0.550065815448761),\n",
       " ('antoinet', 0.5489809513092041),\n",
       " ('brid', 0.5339058637619019),\n",
       " ('goddess', 0.5314623117446899),\n",
       " ('maid', 0.5292067527770996),\n",
       " ('bombshel', 0.5221601724624634),\n",
       " ('stepmoth', 0.5083791017532349)]"
      ]
     },
     "execution_count": 16,
     "metadata": {},
     "output_type": "execute_result"
    }
   ],
   "source": [
    "model.wv.most_similar('queen')"
   ]
  },
  {
   "cell_type": "code",
   "execution_count": 22,
   "metadata": {},
   "outputs": [
    {
     "ename": "AttributeError",
     "evalue": "'Word2VecKeyedVectors' object has no attribute 'doesnt_mtach'",
     "output_type": "error",
     "traceback": [
      "\u001b[1;31m---------------------------------------------------------------------------\u001b[0m",
      "\u001b[1;31mAttributeError\u001b[0m                            Traceback (most recent call last)",
      "\u001b[1;32m<ipython-input-22-fa43de71cbd7>\u001b[0m in \u001b[0;36m<module>\u001b[1;34m()\u001b[0m\n\u001b[1;32m----> 1\u001b[1;33m \u001b[0mmodel\u001b[0m\u001b[1;33m.\u001b[0m\u001b[0mwv\u001b[0m\u001b[1;33m.\u001b[0m\u001b[0mdoesnt_mtach\u001b[0m\u001b[1;33m(\u001b[0m\u001b[1;34m'chair desk bed apple'\u001b[0m\u001b[1;33m.\u001b[0m\u001b[0msplit\u001b[0m\u001b[1;33m(\u001b[0m\u001b[1;33m)\u001b[0m\u001b[1;33m)\u001b[0m\u001b[1;33m\u001b[0m\u001b[0m\n\u001b[0m",
      "\u001b[1;31mAttributeError\u001b[0m: 'Word2VecKeyedVectors' object has no attribute 'doesnt_mtach'"
     ]
    }
   ],
   "source": []
  },
  {
   "cell_type": "code",
   "execution_count": null,
   "metadata": {},
   "outputs": [],
   "source": []
  }
 ],
 "metadata": {
  "kernelspec": {
   "display_name": "Python 3",
   "language": "python",
   "name": "python3"
  },
  "language_info": {
   "codemirror_mode": {
    "name": "ipython",
    "version": 3
   },
   "file_extension": ".py",
   "mimetype": "text/x-python",
   "name": "python",
   "nbconvert_exporter": "python",
   "pygments_lexer": "ipython3",
   "version": "3.6.5"
  }
 },
 "nbformat": 4,
 "nbformat_minor": 2
}
